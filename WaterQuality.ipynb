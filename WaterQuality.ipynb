{
 "cells": [
  {
   "cell_type": "code",
   "execution_count": 1,
   "id": "6996e38a",
   "metadata": {},
   "outputs": [],
   "source": [
    "import pandas as pd \n",
    "import numpy\n",
    "\n",
    "import matplotlib.pyplot as plt\n",
    "\n",
    "\n",
    "from sklearn.preprocessing import LabelEncoder\n",
    "from sklearn.model_selection import train_test_split\n",
    "from sklearn.impute import SimpleImputer\n",
    "from sklearn.preprocessing import StandardScaler\n",
    "from sklearn.metrics import accuracy_score\n",
    "from sklearn.model_selection import GridSearchCV\n",
    "from sklearn.metrics import log_loss,classification_report\n",
    "import mlrose_hiive\n",
    "from sklearn.neural_network import MLPClassifier\n",
    "import warnings\n",
    "import numpy as np\n",
    "import time\n",
    "warnings.filterwarnings(\"ignore\")\n",
    "\n",
    "%matplotlib inline"
   ]
  },
  {
   "cell_type": "code",
   "execution_count": 2,
   "id": "c5ab5f60",
   "metadata": {},
   "outputs": [],
   "source": [
    "def water_quality():\n",
    "    data = pd.read_csv('water_potability.csv',header=0) \n",
    "    encoder = LabelEncoder()\n",
    "    imputer = SimpleImputer(strategy=\"mean\")\n",
    "    water_med = imputer.fit_transform(data)\n",
    "    water_data_clean = pd.DataFrame(water_med, columns=data.columns)\n",
    "    \n",
    "    water_X = water_data_clean.iloc[:,:-1]\n",
    "    y = water_data_clean.iloc[:,-1]\n",
    "    \n",
    "    scale = StandardScaler()\n",
    "    X = scale.fit_transform(water_X)\n",
    "    \n",
    "\n",
    "    x_train,x_test,ytrain,ytest = train_test_split(X,y,test_size=.20, random_state=42)\n",
    "    \n",
    "    return x_train,x_test,ytrain,ytest"
   ]
  },
  {
   "cell_type": "code",
   "execution_count": 3,
   "id": "e2465fa8",
   "metadata": {},
   "outputs": [],
   "source": [
    "def neuralNetwork(x_train,x_test,y_train,y_test):\n",
    "    start_time = time.time()\n",
    "\n",
    "    skLearnNN = MLPClassifier(random_state=42,\n",
    "                              activation='relu',\n",
    "                              alpha=0.0001,\n",
    "                              hidden_layer_sizes= (100),\n",
    "                              max_iter=100,\n",
    "                              solver='adam')\n",
    "    \n",
    "    skLearnNN.fit(x_train,x_test)\n",
    "    \n",
    "    print(\" It took %s seconds \" % (time.time() - start_time))\n",
    "    \n",
    "    prediction = skLearnNN.predict(y_train)\n",
    "    \n",
    "    x_train,x_test,y_train,y_test\n",
    "    \n",
    "    print(\"Xtrain\",x_train)\n",
    "    print(\"X_test\",x_test)\n",
    "    print(\"Y_train\",y_train)\n",
    "    print(\"y_test\",y_test)\n",
    "    \n",
    "    print(log_loss(y_test, prediction))\n",
    "    print(log_loss(x_test,skLearnNN.predict(x_train)))\n",
    "    \n",
    "    \n",
    "    \n",
    "    return \"The accuracy score = \" + str(accuracy_score(y_test,prediction))"
   ]
  },
  {
   "cell_type": "code",
   "execution_count": null,
   "id": "f7cfdecf",
   "metadata": {},
   "outputs": [],
   "source": []
  },
  {
   "cell_type": "code",
   "execution_count": 5,
   "id": "af2d530d",
   "metadata": {},
   "outputs": [
    {
     "name": "stdout",
     "output_type": "stream",
     "text": [
      " It took 1.1616871356964111 seconds \n",
      "Xtrain [[-0.31106424  0.20260677 -0.55283024 ...  0.4926538  -0.08720889\n",
      "  -1.3477761 ]\n",
      " [-0.26950143 -0.07691512  1.38505418 ... -1.65259384  0.01668367\n",
      "   0.08186168]\n",
      " [-0.1665165   0.28283788 -0.42120077 ... -0.1439227   0.27385062\n",
      "   1.26331981]\n",
      " ...\n",
      " [-0.30647139 -0.29227326  1.01798723 ... -0.1418567   1.29106439\n",
      "  -0.61030501]\n",
      " [ 1.15828844  0.65896618 -0.6650338  ...  0.62568457 -1.22374139\n",
      "   0.39390641]\n",
      " [-0.26034729  0.05830532  1.4442152  ... -0.63739737  0.\n",
      "  -0.26735401]]\n",
      "X_test 233     0.0\n",
      "831     0.0\n",
      "2658    0.0\n",
      "2495    0.0\n",
      "2603    0.0\n",
      "       ... \n",
      "1095    1.0\n",
      "1130    1.0\n",
      "1294    0.0\n",
      "860     0.0\n",
      "3174    1.0\n",
      "Name: Potability, Length: 2620, dtype: float64\n",
      "Y_train [[-6.04313345e-16 -3.90828578e-01 -1.77118587e-01 ...  1.78194369e+00\n",
      "   3.95504231e-02  1.17889387e+00]\n",
      " [-2.97765791e-01 -2.26798881e-01  1.23867225e+00 ...  1.27534403e-01\n",
      "   9.18698769e-02  7.63090493e-01]\n",
      " [ 5.20682431e-01  8.42269123e-01  1.42578340e-01 ... -2.65515070e-01\n",
      "  -1.47906419e+00 -1.89528014e+00]\n",
      " ...\n",
      " [ 2.57428196e-01  6.48845661e-01 -2.94002584e-01 ...  5.30056160e-02\n",
      "  -5.83486254e-01 -1.61143210e-01]\n",
      " [-8.28827026e-01 -3.43858996e-01  2.51563761e+00 ...  3.08710563e-01\n",
      "  -4.30663830e-01  1.97450628e+00]\n",
      " [-6.04313345e-16  7.35611157e-01  6.98166082e-01 ...  9.81760666e-01\n",
      "   1.29708821e+00 -5.09079316e-01]]\n",
      "y_test 2947    0.0\n",
      "2782    1.0\n",
      "1644    0.0\n",
      "70      0.0\n",
      "2045    1.0\n",
      "       ... \n",
      "208     0.0\n",
      "1578    1.0\n",
      "565     0.0\n",
      "313     1.0\n",
      "601     0.0\n",
      "Name: Potability, Length: 656, dtype: float64\n",
      "11.267305672463626\n",
      "9.623454464054287\n"
     ]
    },
    {
     "data": {
      "text/plain": [
       "'The accuracy score = 0.6737804878048781'"
      ]
     },
     "execution_count": 5,
     "metadata": {},
     "output_type": "execute_result"
    }
   ],
   "source": [
    "x_train,x_test,y_train,y_test = water_quality()\n",
    "\n",
    "neuralNetwork(x_train,y_train,x_test,y_test)"
   ]
  },
  {
   "cell_type": "markdown",
   "id": "7dba5c34",
   "metadata": {},
   "source": [
    "# Randomized hill climbing\n"
   ]
  },
  {
   "cell_type": "code",
   "execution_count": 27,
   "id": "9cec5570",
   "metadata": {},
   "outputs": [],
   "source": [
    "def randomized_hill_climbing(x_train,x_test,y_train,y_test):\n",
    "    start_time = time.time()\n",
    "    hidden_nodes = [[10],[100],[1000]]\n",
    "    logloss = []\n",
    "    accuracy_list = []\n",
    "    \n",
    "    for i in hidden_nodes:\n",
    "        print(\"Hidden Layer = \", i)\n",
    "        mlrose_nn = mlrose_hiive.NeuralNetwork(hidden_nodes = i,\n",
    "                                                       activation = 'relu',\n",
    "                                                       algorithm='random_hill_climb',\n",
    "                                                       max_iters=1000,\n",
    "                                                       bias = False,\n",
    "                                                       learning_rate = 0.0001,\n",
    "                                                       restarts = 5,\n",
    "                                                       early_stopping=True,\n",
    "                                                       clip_max = 5,\n",
    "                                                       max_attempts=100,\n",
    "                                                       is_classifier = True,\n",
    "                                                       curve=True,\n",
    "                                                       random_state=42,\n",
    "                                                  )\n",
    "    \n",
    "        mlrose_nn.fit(x_train,x_test)\n",
    "        prediction = mlrose_nn.predict(y_train)\n",
    "            \n",
    "\n",
    "            \n",
    "        print(\" It took %s seconds \" % (time.time() - start_time))\n",
    "        print(\"The accuracy score = \" + str(accuracy_score(y_test,prediction)))\n",
    "        print(\"The Log loss = \", log_loss(y_test, prediction))\n",
    "        accuracy_list.append(accuracy_score(y_test,prediction))\n",
    "        logloss.append(log_loss(y_test, prediction))\n",
    "        \n",
    "    plt.plot(mlrose_nn.fitness_curve)\n",
    "    plt.title('Fitness Curve')\n",
    "    plt.xlabel('Iterations')\n",
    "    plt.ylabel('Logloss')\n",
    "    plt.savefig('Random_hill_clibming_Fitness_Curve.png',format='png',bbox_inches = \"tight\")\n",
    "    plt.show() \n",
    "    \n",
    "    return accuracy_list,logloss\n",
    "    "
   ]
  },
  {
   "cell_type": "code",
   "execution_count": 28,
   "id": "aadcf87c",
   "metadata": {},
   "outputs": [
    {
     "name": "stdout",
     "output_type": "stream",
     "text": [
      "Hidden Layer =  [10]\n",
      " It took 10.642664909362793 seconds \n",
      "The accuracy score = 0.49847560975609756\n",
      "The Log loss =  17.322236232788576\n",
      "Hidden Layer =  [100]\n",
      " It took 51.87153100967407 seconds \n",
      "The accuracy score = 0.5259146341463414\n",
      "The Log loss =  16.374491775720834\n",
      "Hidden Layer =  [1000]\n",
      " It took 350.707466840744 seconds \n",
      "The accuracy score = 0.5762195121951219\n",
      "The Log loss =  14.637015527829623\n"
     ]
    },
    {
     "data": {
      "image/png": "[encoded data removed]",
      "text/plain": [
       "<Figure size 432x288 with 1 Axes>"
      ]
     },
     "metadata": {
      "needs_background": "light"
     },
     "output_type": "display_data"
    }
   ],
   "source": [
    "accuary,logloss = randomized_hill_climbing(x_train,y_train,x_test,y_test)"
   ]
  },
  {
   "cell_type": "code",
   "execution_count": 39,
   "id": "c5713fa9",
   "metadata": {},
   "outputs": [],
   "source": [
    "def plotFigures(accuary,logloss,problem):\n",
    "    hidden_nodes = [10,100,1000]\n",
    "    fig, axs = plt.subplots(2)\n",
    "    \n",
    "    fig.suptitle('Water Potablity' + problem)\n",
    "    axs[0].set(xlabel='Learning Rate', ylabel='Accuracy')\n",
    "    print(hidden_nodes)\n",
    "    print(accuary)\n",
    "    axs[0].plot(hidden_nodes, accuary,'tab:orange')\n",
    "    \n",
    "    axs[1].plot(hidden_nodes,logloss,'tab:blue') \n",
    "    axs[1].set(xlabel='Learning Rate', ylabel='Log Loss')\n",
    "    print(hidden_nodes)\n",
    "    print(logloss)\n",
    "\n",
    "\n",
    "            \n",
    "    plt.savefig('waterPotablity '+problem+'.png',format='png',bbox_inches = \"tight\")         \n",
    "    plt.show()\n",
    "    return \n",
    "    "
   ]
  },
  {
   "cell_type": "code",
   "execution_count": 40,
   "id": "8b53e662",
   "metadata": {},
   "outputs": [
    {
     "name": "stdout",
     "output_type": "stream",
     "text": [
      "[10, 100, 1000]\n",
      "[0.49847560975609756, 0.5259146341463414, 0.5762195121951219]\n",
      "[10, 100, 1000]\n",
      "[17.322236232788576, 16.374491775720834, 14.637015527829623]\n"
     ]
    },
    {
     "data": {
      "image/png": "[encoded data removed]",
      "text/plain": [
       "<Figure size 432x288 with 2 Axes>"
      ]
     },
     "metadata": {
      "needs_background": "light"
     },
     "output_type": "display_data"
    }
   ],
   "source": [
    "plotFigures(accuary,logloss,\"Random Hill\")"
   ]
  },
  {
   "cell_type": "markdown",
   "id": "0ba0b09e",
   "metadata": {},
   "source": [
    "# Simulated Annealing"
   ]
  },
  {
   "cell_type": "code",
   "execution_count": 35,
   "id": "d3fabf8d",
   "metadata": {},
   "outputs": [],
   "source": [
    "def simulated_annealing(x_train,x_test,y_train,y_test):\n",
    "    start_time = time.time()\n",
    "    hidden_nodes = [[10],[100],[1000]]\n",
    "    logloss = []\n",
    "    accuracy_list = []\n",
    "    for i in hidden_nodes:\n",
    "        mlrose_nn = mlrose_hiive.NeuralNetwork(hidden_nodes=i,\n",
    "                                               activation = 'relu',\n",
    "                                               bias = False,\n",
    "                                               restarts = 5,\n",
    "                                               clip_max = 5,\n",
    "                                               max_iters=1000,\n",
    "                                               max_attempts=100,\n",
    "                                               is_classifier = True,\n",
    "                                               curve=True,\n",
    "                                               random_state=42,\n",
    "                                               algorithm='simulated_annealing',\n",
    "                                               learning_rate = 0.0001,\n",
    "                                               early_stopping=True)\n",
    "        mlrose_nn.fit(x_train,x_test)\n",
    "        prediction = mlrose_nn.predict(y_train)\n",
    "            \n",
    "\n",
    "            \n",
    "        print(\" It took %s seconds \" % (time.time() - start_time))\n",
    "        print(\"The accuracy score = \" + str(accuracy_score(y_test,prediction)))\n",
    "        print(\"The Log loss = \", log_loss(y_test, prediction))\n",
    "        accuracy_list.append(accuracy_score(y_test,prediction))\n",
    "        logloss.append(log_loss(y_test, prediction))\n",
    "        \n",
    "    plt.plot(mlrose_nn.fitness_curve)\n",
    "    plt.title('Fitness Curve')\n",
    "    plt.xlabel('Iterations')\n",
    "    plt.ylabel('Logloss')\n",
    "    plt.savefig('SA_Fitness_Curve.png',format='png',bbox_inches = \"tight\")\n",
    "    plt.show() \n",
    "    return accuracy_list,logloss\n"
   ]
  },
  {
   "cell_type": "code",
   "execution_count": 41,
   "id": "f202bfd0",
   "metadata": {},
   "outputs": [
    {
     "name": "stdout",
     "output_type": "stream",
     "text": [
      " It took 2.422128200531006 seconds \n",
      "The accuracy score = 0.5\n",
      "The Log loss =  17.269585659015846\n",
      " It took 11.657088041305542 seconds \n",
      "The accuracy score = 0.5259146341463414\n",
      "The Log loss =  16.374491775720834\n",
      " It took 77.93087720870972 seconds \n",
      "The accuracy score = 0.5762195121951219\n",
      "The Log loss =  14.637015527829623\n"
     ]
    },
    {
     "data": {
      "image/png": "[encoded data removed]",
      "text/plain": [
       "<Figure size 432x288 with 1 Axes>"
      ]
     },
     "metadata": {
      "needs_background": "light"
     },
     "output_type": "display_data"
    }
   ],
   "source": [
    "sa_accuary_list, sa_log_loss = simulated_annealing(x_train,y_train,x_test,y_test)"
   ]
  },
  {
   "cell_type": "code",
   "execution_count": 43,
   "id": "a43bc099",
   "metadata": {},
   "outputs": [
    {
     "name": "stdout",
     "output_type": "stream",
     "text": [
      "[10, 100, 1000]\n",
      "[0.5, 0.5259146341463414, 0.5762195121951219]\n",
      "[10, 100, 1000]\n",
      "[17.269585659015846, 16.374491775720834, 14.637015527829623]\n"
     ]
    },
    {
     "data": {
      "image/png": "[encoded data removed]",
      "text/plain": [
       "<Figure size 432x288 with 2 Axes>"
      ]
     },
     "metadata": {
      "needs_background": "light"
     },
     "output_type": "display_data"
    }
   ],
   "source": [
    "\n",
    "plotFigures(sa_accuary_list, sa_log_loss,\" simulated annealing\")"
   ]
  },
  {
   "cell_type": "code",
   "execution_count": null,
   "id": "ae103ccf",
   "metadata": {},
   "outputs": [],
   "source": []
  },
  {
   "cell_type": "markdown",
   "id": "e9645e7c",
   "metadata": {},
   "source": [
    "# Genetic Algortihm"
   ]
  },
  {
   "cell_type": "code",
   "execution_count": 44,
   "id": "10b69516",
   "metadata": {},
   "outputs": [],
   "source": [
    "def genetic_algorithm(x_train,x_test,y_train,y_test):\n",
    "    start_time = time.time()\n",
    "    hidden_nodes = [[10],[100],[1000]]\n",
    "    logloss = []\n",
    "    accuracy_list = []\n",
    "    for i in hidden_nodes:\n",
    "        mlrose_nn = mlrose_hiive.NeuralNetwork(hidden_nodes=i,\n",
    "                                               activation = 'relu',\n",
    "                                               bias = False,\n",
    "                                               restarts = 5,\n",
    "                                               clip_max = 5,\n",
    "                                               max_iters=1000,\n",
    "                                               max_attempts=100,\n",
    "                                               is_classifier = True,\n",
    "                                               curve=True,\n",
    "                                               random_state=42,\n",
    "                                               algorithm='genetic_alg',\n",
    "                                               learning_rate = 0.0001,\n",
    "                                               early_stopping=True)\n",
    "        mlrose_nn.fit(x_train,x_test)\n",
    "        prediction = mlrose_nn.predict(y_train)\n",
    "            \n",
    "            \n",
    "        print(\" It took %s seconds \" % (time.time() - start_time))\n",
    "        print(\"The accuracy score = \" + str(accuracy_score(y_test,prediction)))\n",
    "        print(\"The Log loss = \", log_loss(y_test, prediction))\n",
    "        accuracy_list.append(accuracy_score(y_test,prediction))\n",
    "        logloss.append(log_loss(y_test, prediction))\n",
    "        \n",
    "    plt.plot(mlrose_nn.fitness_curve)\n",
    "    plt.title('Fitness Curve')\n",
    "    plt.xlabel('Iterations')\n",
    "    plt.ylabel('Logloss')\n",
    "    plt.savefig('GA_Fitness_Curve.png',format='png',bbox_inches = \"tight\")\n",
    "    plt.show() \n",
    "    return accuracy_list,logloss"
   ]
  },
  {
   "cell_type": "code",
   "execution_count": 45,
   "id": "6e6210b6",
   "metadata": {},
   "outputs": [
    {
     "name": "stdout",
     "output_type": "stream",
     "text": [
      " It took 122.29608821868896 seconds \n",
      "The accuracy score = 0.6310975609756098\n",
      "The Log loss =  12.741525394795623\n",
      " It took 322.330943107605 seconds \n",
      "The accuracy score = 0.5213414634146342\n",
      "The Log loss =  16.532523944341452\n",
      " It took 2617.3908290863037 seconds \n",
      "The accuracy score = 0.6371951219512195\n",
      "The Log loss =  12.530885313850535\n"
     ]
    },
    {
     "data": {
      "image/png": "[encoded data removed]",
      "text/plain": [
       "<Figure size 432x288 with 1 Axes>"
      ]
     },
     "metadata": {
      "needs_background": "light"
     },
     "output_type": "display_data"
    }
   ],
   "source": [
    "ga_accuracyList, ga_logloss = genetic_algorithm(x_train,y_train,x_test,y_test)"
   ]
  },
  {
   "cell_type": "code",
   "execution_count": 46,
   "id": "7d200752",
   "metadata": {},
   "outputs": [
    {
     "name": "stdout",
     "output_type": "stream",
     "text": [
      "[10, 100, 1000]\n",
      "[0.6310975609756098, 0.5213414634146342, 0.6371951219512195]\n",
      "[10, 100, 1000]\n",
      "[12.741525394795623, 16.532523944341452, 12.530885313850535]\n"
     ]
    },
    {
     "data": {
      "image/png": "[encoded data removed]",
      "text/plain": [
       "<Figure size 432x288 with 2 Axes>"
      ]
     },
     "metadata": {
      "needs_background": "light"
     },
     "output_type": "display_data"
    }
   ],
   "source": [
    "\n",
    "plotFigures(ga_accuracyList, ga_logloss,\" Genetic Algorithm\")"
   ]
  },
  {
   "cell_type": "markdown",
   "id": "2707cc5d",
   "metadata": {},
   "source": [
    "\n"
   ]
  },
  {
   "cell_type": "code",
   "execution_count": null,
   "id": "b9fbce67",
   "metadata": {},
   "outputs": [],
   "source": []
  },
  {
   "cell_type": "code",
   "execution_count": null,
   "id": "1ae7c02a",
   "metadata": {},
   "outputs": [],
   "source": []
  }
 ],
 "metadata": {
  "kernelspec": {
   "display_name": "Python 3 (ipykernel)",
   "language": "python",
   "name": "python3"
  },
  "language_info": {
   "codemirror_mode": {
    "name": "ipython",
    "version": 3
   },
   "file_extension": ".py",
   "mimetype": "text/x-python",
   "name": "python",
   "nbconvert_exporter": "python",
   "pygments_lexer": "ipython3",
   "version": "3.8.12"
  }
 },
 "nbformat": 4,
 "nbformat_minor": 5
}
